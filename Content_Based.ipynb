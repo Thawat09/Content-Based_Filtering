{
  "nbformat": 4,
  "nbformat_minor": 0,
  "metadata": {
    "colab": {
      "name": "Content-Based.ipynb",
      "provenance": [],
      "collapsed_sections": [
        "Y_7Kp0f5Q-RU"
      ],
      "private_outputs": true,
      "authorship_tag": "ABX9TyOzbqETJsYFBZ3SbvAGcIhv"
    },
    "kernelspec": {
      "name": "python3",
      "display_name": "Python 3"
    },
    "language_info": {
      "name": "python"
    }
  },
  "cells": [
    {
      "cell_type": "markdown",
      "source": [
        "# Assignment 8"
      ],
      "metadata": {
        "id": "Y_7Kp0f5Q-RU"
      }
    },
    {
      "cell_type": "code",
      "source": [
        "import pandas as pd\n",
        "import numpy as np\n",
        "import seaborn as sns\n",
        "import matplotlib.pyplot as plt"
      ],
      "metadata": {
        "id": "35qTGLtaekbK"
      },
      "execution_count": null,
      "outputs": []
    },
    {
      "cell_type": "code",
      "source": [
        "from google.colab import drive\n",
        "drive.mount('/content/drive')"
      ],
      "metadata": {
        "id": "5I9FjbqFjTJX"
      },
      "execution_count": null,
      "outputs": []
    },
    {
      "cell_type": "code",
      "source": [
        "movies = pd.read_csv('/content/drive/My Drive/ml-25m/movies.csv')\n",
        "scores = pd.read_csv('/content/drive/My Drive/ml-25m/genome-scores.csv')\n",
        "tags = pd.read_csv('/content/drive/My Drive/ml-25m/genome-tags.csv')"
      ],
      "metadata": {
        "id": "L0QPuy6TjVfu"
      },
      "execution_count": null,
      "outputs": []
    },
    {
      "cell_type": "code",
      "source": [
        "movies.drop(columns='genres',inplace=True)"
      ],
      "metadata": {
        "id": "2_ls8N6tl3gD"
      },
      "execution_count": null,
      "outputs": []
    },
    {
      "cell_type": "code",
      "source": [
        "tg = pd.merge(tags, scores, on = 'tagId')\n",
        "tg"
      ],
      "metadata": {
        "id": "dWBPLcY6Kps7"
      },
      "execution_count": null,
      "outputs": []
    },
    {
      "cell_type": "code",
      "source": [
        "movies"
      ],
      "metadata": {
        "id": "l5eX1Xh-K3at"
      },
      "execution_count": null,
      "outputs": []
    },
    {
      "cell_type": "code",
      "source": [
        "df = pd.merge(movies, tg, on = 'movieId')\n",
        "df"
      ],
      "metadata": {
        "id": "hPad_NPJNJSN"
      },
      "execution_count": null,
      "outputs": []
    },
    {
      "cell_type": "code",
      "source": [
        "scores= pd.DataFrame(df.groupby('title')['relevance'].mean())\n",
        "scores.head()\n",
        "\n",
        "scores['relevance_counts']= pd.DataFrame(df.groupby('title')['relevance'].count())\n",
        "scores.head()"
      ],
      "metadata": {
        "id": "twfU9hP-jby7"
      },
      "execution_count": null,
      "outputs": []
    },
    {
      "cell_type": "code",
      "source": [
        "plt.figure(figsize=(10,5))\n",
        "sns.histplot(scores['relevance'])\n",
        "plt.title(\"Histogram plot of relevance\")\n",
        "plt.xlabel('relevance')\n",
        "plt.ylabel('count of relevance')"
      ],
      "metadata": {
        "id": "UmgL5cLSjc8T"
      },
      "execution_count": null,
      "outputs": []
    },
    {
      "cell_type": "code",
      "source": [
        "sns.jointplot(x='relevance',y='relevance_counts',data=scores,alpha=0.5)"
      ],
      "metadata": {
        "id": "pYQgfi69jeF6"
      },
      "execution_count": null,
      "outputs": []
    },
    {
      "cell_type": "code",
      "source": [
        "movies_reco= df.pivot_table(index='tagId', columns='title',values='relevance')\n",
        "movies_reco"
      ],
      "metadata": {
        "id": "fgFKY9NVjfan"
      },
      "execution_count": null,
      "outputs": []
    },
    {
      "cell_type": "code",
      "source": [
        "movie = movies_reco['Spider-Man: Far from Home (2019)']"
      ],
      "metadata": {
        "id": "CQqAKjhVjglU"
      },
      "execution_count": null,
      "outputs": []
    },
    {
      "cell_type": "code",
      "source": [
        "similar_movie= movies_reco.corrwith(movie)\n",
        "corr_movie = pd.DataFrame(similar_movie,columns=['Correlation'])\n",
        "corr_movie.dropna(inplace=True)\n",
        "corr_movie= corr_movie.join(scores['relevance_counts'])\n",
        "movies = corr_movie[corr_movie['relevance_counts']>100].sort_values(by='Correlation',ascending=False).head(10)"
      ],
      "metadata": {
        "id": "IprMa4OejiKs"
      },
      "execution_count": null,
      "outputs": []
    },
    {
      "cell_type": "markdown",
      "source": [
        "Spider-Man: Far from Home (2019)"
      ],
      "metadata": {
        "id": "5D4aend2KBXl"
      }
    },
    {
      "cell_type": "code",
      "source": [
        "movies"
      ],
      "metadata": {
        "id": "1gr5Cd0SKEew"
      },
      "execution_count": null,
      "outputs": []
    }
  ]
}